{
 "cells": [
  {
   "cell_type": "markdown",
   "metadata": {},
   "source": [
    "# Cat vs Dog Classifier"
   ]
  },
  {
   "cell_type": "markdown",
   "metadata": {},
   "source": [
    "### Importing libraries:"
   ]
  },
  {
   "cell_type": "code",
   "execution_count": 2,
   "metadata": {},
   "outputs": [],
   "source": [
    "from PIL import Image\n",
    "from matplotlib import image\n",
    "from matplotlib import pyplot as plt\n",
    "\n",
    "\n",
    "import pickle\n",
    "import os\n",
    "\n",
    "import numpy as np\n",
    "from sklearn.model_selection import train_test_split\n",
    "\n",
    "from keras.models import Sequential\n",
    "from keras.layers.core import Dense, Flatten#, Dropout\n",
    "\n",
    "from keras.layers import Conv2D, MaxPooling2D\n",
    "from keras.utils import to_categorical\n"
   ]
  },
  {
   "cell_type": "markdown",
   "metadata": {},
   "source": [
    "### Screening through for data:"
   ]
  },
  {
   "cell_type": "markdown",
   "metadata": {},
   "source": [
    "```python\n",
    "import glob\n",
    "train_data_dir, final_test_data_dir = 'data/train/', 'data/test1/'\n",
    "def resize(*root_dirs):\n",
    "    for root_dir in root_dirs:\n",
    "        for filename in glob.iglob(root_dir + '*.jpg', recursive=True):\n",
    "            print(filename)\n",
    "            im = Image.open(filename)\n",
    "            imResize = im.resize((64, 64), Image.ANTIALIAS)\n",
    "            imResize.save(filename , 'JPEG', quality=90)\n",
    "        \n",
    "resize(train_data_dir, final_test_data_dir)\n",
    "```"
   ]
  },
  {
   "cell_type": "markdown",
   "metadata": {},
   "source": [
    "### Importing data:"
   ]
  },
  {
   "cell_type": "code",
   "execution_count": 3,
   "metadata": {},
   "outputs": [],
   "source": [
    "def load_data(train_data_dir = None, final_test_data_dir = None, get_XY = False):\n",
    "    \n",
    "    if(get_XY):\n",
    "        try:\n",
    "            try: \n",
    "                infile = open('X','rb')\n",
    "                X = pickle.load(infile)\n",
    "                infile.close()\n",
    "                print('Loaded X from pickle')\n",
    "            except:\n",
    "                print('No pickle for X found')\n",
    "\n",
    "            try: \n",
    "                infile = open('Y','rb')\n",
    "                Y = pickle.load(infile)\n",
    "                infile.close()\n",
    "                print('Loaded Y from pickle')\n",
    "            except:\n",
    "                print('No pickle for Y found')\n",
    "\n",
    "            return X, Y\n",
    "        except:\n",
    "            print('X, Y pickle not found.')\n",
    "\n",
    "\n",
    "    try:\n",
    "        infile = open('train_data','rb')\n",
    "        train_data = pickle.load(infile)\n",
    "        infile.close()\n",
    "        print('Loaded train_data from pickle')\n",
    "\n",
    "    except:\n",
    "        print('No pickle for train_data found')\n",
    "\n",
    "        try:\n",
    "            train_data = []\n",
    "\n",
    "            for image_name in os.listdir(train_data_dir):\n",
    "#                 image_name is the classification here\n",
    "                image_data = image.imread(train_data_dir + image_name)\n",
    "                train_data.append([1 if image_name[:3] == 'cat' else 0, image_data])\n",
    "\n",
    "            print('Loaded train_data from dir')\n",
    "            train_data = np.array(train_data)\n",
    "\n",
    "        except:\n",
    "            print('error in reading train_data_dir')\n",
    "\n",
    "    try:\n",
    "        infile = open('final_test_data','rb')\n",
    "        final_test_data = pickle.load(infile)\n",
    "        infile.close()\n",
    "\n",
    "        print('Loaded final_test_data from pickle')\n",
    "    except:\n",
    "        print('No pickle for final_test_data found')\n",
    "\n",
    "        try:\n",
    "            final_test_data = []\n",
    "\n",
    "            for image_name in os.listdir(final_test_data_dir):\n",
    "#                 image_name is the id here, NOT the key\n",
    "                image_data = image.imread(final_test_data_dir + image_name)\n",
    "                final_test_data.append([image_name, image_data])\n",
    "\n",
    "            print('Loaded final_test_data from dir')\n",
    "            final_test_data = np.array(final_test_data)\n",
    "\n",
    "        except:\n",
    "            print('error in reading final_test_data')\n",
    "\n",
    "    return train_data, final_test_data"
   ]
  },
  {
   "cell_type": "code",
   "execution_count": 4,
   "metadata": {},
   "outputs": [
    {
     "name": "stdout",
     "output_type": "stream",
     "text": [
      "Loaded X from pickle\n",
      "Loaded Y from pickle\n"
     ]
    }
   ],
   "source": [
    "train_data_dir, final_test_data_dir = 'data/train/', 'data/test1/'\n",
    "try: \n",
    "    X, y = load_data(get_XY=True)\n",
    "except:\n",
    "    train_data, final_test_data = load_data(train_data_dir=train_data_dir,\n",
    "                                        final_test_data_dir=final_test_data_dir,\n",
    "                                        get_XY=False)"
   ]
  },
  {
   "cell_type": "code",
   "execution_count": 5,
   "metadata": {},
   "outputs": [
    {
     "name": "stdout",
     "output_type": "stream",
     "text": [
      "Loaded train_data from pickle\n",
      "Loaded final_test_data from pickle\n"
     ]
    }
   ],
   "source": [
    "train_data, final_test_data = load_data(train_data_dir=train_data_dir,\n",
    "                                        final_test_data_dir=final_test_data_dir,\n",
    "                                        get_XY=False)"
   ]
  },
  {
   "cell_type": "markdown",
   "metadata": {},
   "source": [
    "```python\n",
    "def save_data_in_pickle(**kwargs):\n",
    "    for key, val in kwargs.items():\n",
    "        outfile = open(key,'wb')\n",
    "        pickle.dump(val,outfile)\n",
    "        outfile.close()\n",
    "try:\n",
    "    save_data_in_pickle(X=X, Y=y)\n",
    "except:\n",
    "    save_data_in_pickle(train_data = train_data, final_test_data = final_test_data)\n",
    "```"
   ]
  },
  {
   "cell_type": "code",
   "execution_count": 6,
   "metadata": {
    "scrolled": true
   },
   "outputs": [
    {
     "name": "stdout",
     "output_type": "stream",
     "text": [
      "AxesImage(54,36;334.8x217.44) \n",
      "class = 1, dimensions = (64, 64, 3), length = 25000, \n",
      "In class index for dog = 0, cat = 1\n"
     ]
    },
    {
     "data": {
      "image/png": "[encoded data removed]",
      "text/plain": [
       "<Figure size 432x288 with 1 Axes>"
      ]
     },
     "metadata": {
      "needs_background": "light"
     },
     "output_type": "display_data"
    }
   ],
   "source": [
    "sample = 0\n",
    "print(plt.imshow(train_data[sample][1]), \n",
    "      '\\nclass = ' + str(train_data[sample][0]) + ',',\n",
    "      'dimensions = ' + str(train_data[sample][1].shape) + ',',\n",
    "      'length = ' + str(len(train_data)) + ',',\n",
    "      '\\nIn class index for dog = 0, cat = 1')"
   ]
  },
  {
   "cell_type": "code",
   "execution_count": 73,
   "metadata": {},
   "outputs": [
    {
     "data": {
      "text/plain": [
       "(25000, 2)"
      ]
     },
     "execution_count": 73,
     "metadata": {},
     "output_type": "execute_result"
    }
   ],
   "source": [
    "train_data.shape"
   ]
  },
  {
   "cell_type": "markdown",
   "metadata": {},
   "source": [
    "### Test set has no lables hence using the training set more effectivly"
   ]
  },
  {
   "cell_type": "markdown",
   "metadata": {},
   "source": [
    "If loaded from X, Y\n",
    "```python\n",
    "X, Y = train_data, final_test_data\n",
    "\n",
    "print(X.shape, Y.shape)\n",
    "\n",
    "```\n",
    "\n",
    "If loaded from train/test data\n",
    "\n",
    "```python\n",
    "X = np.zeros([25000, 64, 64, 3])\n",
    "Y = np.zeros([25000, 2])\n",
    "\n",
    "for i in range(len(train_data)):\n",
    "    X[i, :, :, :] = train_data[i][1]\n",
    "    Y[i, :] = train_data[i][0]\n",
    "\n",
    "print(X.shape, Y.shape)\n",
    "```"
   ]
  },
  {
   "cell_type": "code",
   "execution_count": null,
   "metadata": {},
   "outputs": [],
   "source": [
    "X = np.zeros([25000, 64, 64, 3])\n",
    "y = np.zeros([25000, 1])\n",
    "\n",
    "for i in range(len(train_data)):\n",
    "    X[i, :, :, :] = train_data[i][1]\n",
    "    y[i, :] = train_data[i][0]\n",
    "\n",
    "X = X/256\n",
    "y = to_categorical(y)\n",
    "\n",
    "print(X.shape, y.shape)"
   ]
  },
  {
   "cell_type": "markdown",
   "metadata": {},
   "source": [
    "Save the pickle\n",
    "\n",
    "```python\n",
    "save_data_in_pickle(X=X, Y=y)\n",
    "```"
   ]
  },
  {
   "cell_type": "code",
   "execution_count": 9,
   "metadata": {},
   "outputs": [],
   "source": [
    "X_train_orig, X_test_orig, y_train_orig, y_test_orig = train_test_split(X, y, test_size = 0.2, random_state = 0)"
   ]
  },
  {
   "cell_type": "code",
   "execution_count": 10,
   "metadata": {},
   "outputs": [
    {
     "data": {
      "text/plain": [
       "((20000, 64, 64, 3), (5000, 64, 64, 3), (20000, 2), (5000, 2))"
      ]
     },
     "execution_count": 10,
     "metadata": {},
     "output_type": "execute_result"
    }
   ],
   "source": [
    "X_train_orig.shape, X_test_orig.shape, y_train_orig.shape, y_test_orig.shape"
   ]
  },
  {
   "cell_type": "markdown",
   "metadata": {},
   "source": [
    "### Sampling data:"
   ]
  },
  {
   "cell_type": "code",
   "execution_count": 11,
   "metadata": {},
   "outputs": [
    {
     "name": "stdout",
     "output_type": "stream",
     "text": [
      "[0. 1.]\n"
     ]
    },
    {
     "data": {
      "image/png": "[encoded data removed]",
      "text/plain": [
       "<Figure size 432x288 with 1 Axes>"
      ]
     },
     "metadata": {
      "needs_background": "light"
     },
     "output_type": "display_data"
    }
   ],
   "source": [
    "plt.imshow(X_train_orig[0])\n",
    "print(y_train_orig[0])"
   ]
  },
  {
   "cell_type": "code",
   "execution_count": 12,
   "metadata": {},
   "outputs": [
    {
     "name": "stdout",
     "output_type": "stream",
     "text": [
      "[1. 0.]\n"
     ]
    },
    {
     "data": {
      "image/png": "[encoded data removed]",
      "text/plain": [
       "<Figure size 432x288 with 1 Axes>"
      ]
     },
     "metadata": {
      "needs_background": "light"
     },
     "output_type": "display_data"
    }
   ],
   "source": [
    "plt.imshow(X_train_orig[1])\n",
    "print(y_train_orig[1])"
   ]
  },
  {
   "cell_type": "code",
   "execution_count": 13,
   "metadata": {},
   "outputs": [
    {
     "name": "stdout",
     "output_type": "stream",
     "text": [
      "[1. 0.]\n"
     ]
    },
    {
     "data": {
      "image/png": "[encoded data removed]",
      "text/plain": [
       "<Figure size 432x288 with 1 Axes>"
      ]
     },
     "metadata": {
      "needs_background": "light"
     },
     "output_type": "display_data"
    }
   ],
   "source": [
    "plt.imshow(X_train_orig[2])\n",
    "print(y_train_orig[2])"
   ]
  },
  {
   "cell_type": "markdown",
   "metadata": {},
   "source": [
    "### Making a model"
   ]
  },
  {
   "cell_type": "code",
   "execution_count": 14,
   "metadata": {},
   "outputs": [],
   "source": [
    "X_train = X_train_orig\n",
    "y_train = y_train_orig\n",
    "X_test = X_test_orig\n",
    "y_test = y_test_orig"
   ]
  },
  {
   "cell_type": "code",
   "execution_count": 18,
   "metadata": {},
   "outputs": [],
   "source": [
    "#create model\n",
    "model = Sequential()\n",
    "\n",
    "#add model layers\n",
    "model.add(Conv2D(64, kernel_size=3, activation='relu', input_shape=(64,64,3), padding='same'))\n",
    "model.add(Conv2D(64, kernel_size=3, activation='relu', padding='same'))\n",
    "model.add(MaxPooling2D(pool_size=(2, 2), padding='same'))\n",
    "\n",
    "model.add(Conv2D(32, kernel_size=3, activation='relu', padding='same'))\n",
    "model.add(Conv2D(32, kernel_size=3, activation='relu', padding='same'))\n",
    "model.add(MaxPooling2D(pool_size=(2, 2), padding='same'))\n",
    "\n",
    "model.add(Conv2D(16, kernel_size=3, activation='relu', padding='same'))\n",
    "model.add(Conv2D(16, kernel_size=3, activation='relu', padding='same'))\n",
    "model.add(MaxPooling2D(pool_size=(2, 2), padding='same'))\n",
    "\n",
    "model.add(Conv2D(8, kernel_size=3, activation='relu', padding='same'))\n",
    "model.add(Conv2D(8, kernel_size=3, activation='relu', padding='same'))\n",
    "model.add(MaxPooling2D(pool_size=(2, 2), padding='same'))\n",
    "\n",
    "model.add(Flatten())\n",
    "model.add(Dense(64, activation='relu'))\n",
    "model.add(Dense(16, activation='relu'))\n",
    "model.add(Dense(2, activation='softmax'))"
   ]
  },
  {
   "cell_type": "code",
   "execution_count": 19,
   "metadata": {},
   "outputs": [],
   "source": [
    "#compile model using accuracy to measure model performance\n",
    "model.compile(optimizer='adam', loss='categorical_crossentropy', metrics=['accuracy'])"
   ]
  },
  {
   "cell_type": "code",
   "execution_count": 20,
   "metadata": {},
   "outputs": [
    {
     "name": "stdout",
     "output_type": "stream",
     "text": [
      "Train on 20000 samples, validate on 5000 samples\n",
      "Epoch 1/10\n",
      "20000/20000 [==============================] - 490s 24ms/step - loss: 0.6611 - accuracy: 0.5988 - val_loss: 0.6268 - val_accuracy: 0.6752\n",
      "Epoch 2/10\n",
      "20000/20000 [==============================] - 484s 24ms/step - loss: 0.5997 - accuracy: 0.6786 - val_loss: 0.5723 - val_accuracy: 0.7066\n",
      "Epoch 3/10\n",
      "20000/20000 [==============================] - 485s 24ms/step - loss: 0.5447 - accuracy: 0.7243 - val_loss: 0.5463 - val_accuracy: 0.7220\n",
      "Epoch 4/10\n",
      "20000/20000 [==============================] - 484s 24ms/step - loss: 0.4861 - accuracy: 0.7645 - val_loss: 0.4771 - val_accuracy: 0.7738\n",
      "Epoch 5/10\n",
      "20000/20000 [==============================] - 484s 24ms/step - loss: 0.4436 - accuracy: 0.7940 - val_loss: 0.4484 - val_accuracy: 0.7788\n",
      "Epoch 6/10\n",
      "20000/20000 [==============================] - 484s 24ms/step - loss: 0.4049 - accuracy: 0.8160 - val_loss: 0.4048 - val_accuracy: 0.8128\n",
      "Epoch 7/10\n",
      "20000/20000 [==============================] - 484s 24ms/step - loss: 0.3713 - accuracy: 0.8322 - val_loss: 0.3698 - val_accuracy: 0.8336\n",
      "Epoch 8/10\n",
      "20000/20000 [==============================] - 485s 24ms/step - loss: 0.3427 - accuracy: 0.8510 - val_loss: 0.3778 - val_accuracy: 0.8310\n",
      "Epoch 9/10\n",
      "20000/20000 [==============================] - 485s 24ms/step - loss: 0.3193 - accuracy: 0.8633 - val_loss: 0.3718 - val_accuracy: 0.8240\n",
      "Epoch 10/10\n",
      "20000/20000 [==============================] - 484s 24ms/step - loss: 0.2917 - accuracy: 0.8758 - val_loss: 0.3612 - val_accuracy: 0.8430\n"
     ]
    },
    {
     "data": {
      "text/plain": [
       "<keras.callbacks.callbacks.History at 0x7f602bc701d0>"
      ]
     },
     "execution_count": 20,
     "metadata": {},
     "output_type": "execute_result"
    }
   ],
   "source": [
    "#train the model\n",
    "model.fit(X_train, y_train, validation_data=(X_test, y_test), epochs=10)"
   ]
  },
  {
   "cell_type": "code",
   "execution_count": 31,
   "metadata": {},
   "outputs": [
    {
     "data": {
      "text/plain": [
       "(array([0, 1, 0, 0, 0]), array([0, 1, 0, 0, 0]))"
      ]
     },
     "execution_count": 31,
     "metadata": {},
     "output_type": "execute_result"
    }
   ],
   "source": [
    "model.predict_classes(X_test[:5]), np.argmax(y_test[0:5], axis=1)"
   ]
  },
  {
   "cell_type": "markdown",
   "metadata": {},
   "source": [
    "### Making another model:"
   ]
  },
  {
   "cell_type": "code",
   "execution_count": 21,
   "metadata": {},
   "outputs": [],
   "source": [
    "model1 = Sequential()\n",
    "\n",
    "#add model1 layers\n",
    "model1.add(Conv2D(64, kernel_size=3, activation='relu', padding='same'))\n",
    "model1.add(MaxPooling2D(pool_size=(2, 2), padding='same'))\n",
    "\n",
    "model1.add(Conv2D(32, kernel_size=3, activation='relu', padding='same'))\n",
    "model1.add(MaxPooling2D(pool_size=(2, 2), padding='same'))\n",
    "\n",
    "model1.add(Conv2D(16, kernel_size=3, activation='relu', padding='same'))\n",
    "model1.add(MaxPooling2D(pool_size=(2, 2), padding='same'))\n",
    "\n",
    "model1.add(Flatten())\n",
    "model1.add(Dense(64, activation='relu'))\n",
    "model1.add(Dense(16, activation='relu'))\n",
    "model1.add(Dense(2, activation='softmax'))"
   ]
  },
  {
   "cell_type": "code",
   "execution_count": 22,
   "metadata": {},
   "outputs": [],
   "source": [
    "model1.compile(optimizer='adam', loss='categorical_crossentropy', metrics=['accuracy'])"
   ]
  },
  {
   "cell_type": "code",
   "execution_count": 23,
   "metadata": {},
   "outputs": [
    {
     "name": "stdout",
     "output_type": "stream",
     "text": [
      "Train on 20000 samples, validate on 5000 samples\n",
      "Epoch 1/10\n",
      "20000/20000 [==============================] - 109s 5ms/step - loss: 0.6601 - accuracy: 0.5825 - val_loss: 0.6302 - val_accuracy: 0.6522\n",
      "Epoch 2/10\n",
      "20000/20000 [==============================] - 109s 5ms/step - loss: 0.5627 - accuracy: 0.7135 - val_loss: 0.5325 - val_accuracy: 0.7284\n",
      "Epoch 3/10\n",
      "20000/20000 [==============================] - 109s 5ms/step - loss: 0.5040 - accuracy: 0.7527 - val_loss: 0.4972 - val_accuracy: 0.7562\n",
      "Epoch 4/10\n",
      "20000/20000 [==============================] - 110s 5ms/step - loss: 0.4576 - accuracy: 0.7853 - val_loss: 0.4591 - val_accuracy: 0.7800\n",
      "Epoch 5/10\n",
      "20000/20000 [==============================] - 110s 5ms/step - loss: 0.4204 - accuracy: 0.8050 - val_loss: 0.4499 - val_accuracy: 0.7982\n",
      "Epoch 6/10\n",
      "20000/20000 [==============================] - 110s 5ms/step - loss: 0.3907 - accuracy: 0.8217 - val_loss: 0.4255 - val_accuracy: 0.8058\n",
      "Epoch 7/10\n",
      "20000/20000 [==============================] - 109s 5ms/step - loss: 0.3655 - accuracy: 0.8381 - val_loss: 0.4081 - val_accuracy: 0.8172\n",
      "Epoch 8/10\n",
      "20000/20000 [==============================] - 114s 6ms/step - loss: 0.3449 - accuracy: 0.8452 - val_loss: 0.4773 - val_accuracy: 0.7962\n",
      "Epoch 9/10\n",
      "20000/20000 [==============================] - 120s 6ms/step - loss: 0.3208 - accuracy: 0.8604 - val_loss: 0.4124 - val_accuracy: 0.8112\n",
      "Epoch 10/10\n",
      "20000/20000 [==============================] - 119s 6ms/step - loss: 0.2953 - accuracy: 0.8703 - val_loss: 0.4087 - val_accuracy: 0.8206\n"
     ]
    },
    {
     "data": {
      "text/plain": [
       "<keras.callbacks.callbacks.History at 0x7f5ecd4cded0>"
      ]
     },
     "execution_count": 23,
     "metadata": {},
     "output_type": "execute_result"
    }
   ],
   "source": [
    "model1.fit(X_train, y_train, validation_data=(X_test, y_test), epochs=10)"
   ]
  },
  {
   "cell_type": "code",
   "execution_count": 30,
   "metadata": {},
   "outputs": [
    {
     "data": {
      "text/plain": [
       "(array([1, 1, 1, 0, 0]), array([0, 1, 0, 0, 0]))"
      ]
     },
     "execution_count": 30,
     "metadata": {},
     "output_type": "execute_result"
    }
   ],
   "source": [
    "model1.predict_classes(X_test[:5]), np.argmax(y_test[0:5], axis=1)"
   ]
  },
  {
   "cell_type": "markdown",
   "metadata": {},
   "source": [
    "### Saving the models:"
   ]
  },
  {
   "cell_type": "code",
   "execution_count": 35,
   "metadata": {},
   "outputs": [],
   "source": [
    "model.save('model')\n",
    "model1.save('model1')"
   ]
  },
  {
   "cell_type": "markdown",
   "metadata": {},
   "source": [
    "### Getting final_test_data to make predictions:"
   ]
  },
  {
   "cell_type": "code",
   "execution_count": 39,
   "metadata": {},
   "outputs": [
    {
     "data": {
      "text/plain": [
       "(12500,)"
      ]
     },
     "execution_count": 39,
     "metadata": {},
     "output_type": "execute_result"
    }
   ],
   "source": [
    "final_test_data[:,1].shape"
   ]
  },
  {
   "cell_type": "code",
   "execution_count": 63,
   "metadata": {},
   "outputs": [],
   "source": [
    "X_new = np.zeros([12500, 64, 64, 3])\n",
    "lables = np.empty([12500, 5], dtype=object)\n",
    "for i in range(len(final_test_data)):\n",
    "    X_new[i, :, :, :] = final_test_data[i][1]\n",
    "    lables = int(final_test_data[i,0][:-4])\n",
    "    \n",
    "X_new = X_new/255"
   ]
  },
  {
   "cell_type": "code",
   "execution_count": 64,
   "metadata": {},
   "outputs": [],
   "source": [
    "y_new = model.predict_classes(X_new)"
   ]
  },
  {
   "cell_type": "code",
   "execution_count": 65,
   "metadata": {},
   "outputs": [],
   "source": [
    "y_new1 = model1.predict_classes(X_new)"
   ]
  },
  {
   "cell_type": "markdown",
   "metadata": {},
   "source": [
    "### Saving in pickle"
   ]
  },
  {
   "cell_type": "code",
   "execution_count": 66,
   "metadata": {},
   "outputs": [],
   "source": [
    "def save_data_in_pickle(**kwargs):\n",
    "    for key, val in kwargs.items():\n",
    "        outfile = open(key,'wb')\n",
    "        pickle.dump(val,outfile)\n",
    "        outfile.close()\n",
    "save_data_in_pickle(y_new = y_new, y_new1 = y_new1)"
   ]
  },
  {
   "cell_type": "markdown",
   "metadata": {},
   "source": [
    "### Sampling results:"
   ]
  },
  {
   "cell_type": "code",
   "execution_count": 71,
   "metadata": {},
   "outputs": [
    {
     "name": "stdout",
     "output_type": "stream",
     "text": [
      "y_new =  1\n",
      "y_new1 =  1\n"
     ]
    },
    {
     "data": {
      "text/plain": [
       "<matplotlib.image.AxesImage at 0x7f5eba6ef350>"
      ]
     },
     "execution_count": 71,
     "metadata": {},
     "output_type": "execute_result"
    },
    {
     "data": {
      "image/png": "[encoded data removed]",
      "text/plain": [
       "<Figure size 432x288 with 1 Axes>"
      ]
     },
     "metadata": {
      "needs_background": "light"
     },
     "output_type": "display_data"
    }
   ],
   "source": [
    "print('y_new = ', y_new[0])\n",
    "print('y_new1 = ', y_new1[0])\n",
    "plt.imshow(X_new[0])"
   ]
  },
  {
   "cell_type": "code",
   "execution_count": 70,
   "metadata": {},
   "outputs": [
    {
     "name": "stdout",
     "output_type": "stream",
     "text": [
      "y_new =  1\n",
      "y_new1 =  1\n"
     ]
    },
    {
     "data": {
      "text/plain": [
       "<matplotlib.image.AxesImage at 0x7f5ebadca190>"
      ]
     },
     "execution_count": 70,
     "metadata": {},
     "output_type": "execute_result"
    },
    {
     "data": {
      "image/png": "[encoded data removed]",
      "text/plain": [
       "<Figure size 432x288 with 1 Axes>"
      ]
     },
     "metadata": {
      "needs_background": "light"
     },
     "output_type": "display_data"
    }
   ],
   "source": [
    "print('y_new = ', y_new[1])\n",
    "print('y_new1 = ', y_new1[1])\n",
    "plt.imshow(X_new[1])"
   ]
  },
  {
   "cell_type": "code",
   "execution_count": 72,
   "metadata": {},
   "outputs": [
    {
     "name": "stdout",
     "output_type": "stream",
     "text": [
      "y_new =  0\n",
      "y_new1 =  0\n"
     ]
    },
    {
     "data": {
      "text/plain": [
       "<matplotlib.image.AxesImage at 0x7f5ebaadead0>"
      ]
     },
     "execution_count": 72,
     "metadata": {},
     "output_type": "execute_result"
    },
    {
     "data": {
      "image/png": "[encoded data removed]",
      "text/plain": [
       "<Figure size 432x288 with 1 Axes>"
      ]
     },
     "metadata": {
      "needs_background": "light"
     },
     "output_type": "display_data"
    }
   ],
   "source": [
    "print('y_new = ', y_new[2])\n",
    "print('y_new1 = ', y_new1[2])\n",
    "plt.imshow(X_new[2])"
   ]
  },
  {
   "cell_type": "code",
   "execution_count": null,
   "metadata": {},
   "outputs": [],
   "source": []
  }
 ],
 "metadata": {
  "kernelspec": {
   "display_name": "Python 3",
   "language": "python",
   "name": "python3"
  },
  "language_info": {
   "codemirror_mode": {
    "name": "ipython",
    "version": 3
   },
   "file_extension": ".py",
   "mimetype": "text/x-python",
   "name": "python",
   "nbconvert_exporter": "python",
   "pygments_lexer": "ipython3",
   "version": "3.7.5"
  }
 },
 "nbformat": 4,
 "nbformat_minor": 4
}
